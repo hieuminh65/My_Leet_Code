{
 "cells": [
  {
   "cell_type": "code",
   "execution_count": 34,
   "id": "86f6e99d",
   "metadata": {},
   "outputs": [],
   "source": [
    "#pip install --upgrade \"protobuf<=3.20.1\""
   ]
  },
  {
   "cell_type": "code",
   "execution_count": 35,
   "id": "94c67b7a",
   "metadata": {},
   "outputs": [],
   "source": [
    "#necessary imports\n",
    "import librosa\n",
    "import pandas as pd\n",
    "import numpy as np\n",
    "import sklearn\n",
    "from sklearn import preprocessing\n",
    "from sklearn.model_selection import train_test_split\n",
    "from sklearn.neural_network import MLPClassifier\n",
    "from sklearn.metrics import accuracy_score\n",
    "import glob,os\n",
    "import keras\n",
    "from keras.callbacks import ReduceLROnPlateau, EarlyStopping\n",
    "from keras.models import Sequential\n",
    "from keras.layers import Dense, Conv1D, MaxPooling1D, Flatten, Dropout, BatchNormalization\n",
    "from keras.utils import np_utils\n",
    "from keras.callbacks import ModelCheckpoint\n",
    "import seaborn as sns\n",
    "import matplotlib.pyplot as plt\n",
    "import random"
   ]
  },
  {
   "cell_type": "code",
   "execution_count": 36,
   "id": "e81b1590",
   "metadata": {},
   "outputs": [],
   "source": [
    "random.seed(1)"
   ]
  },
  {
   "cell_type": "code",
   "execution_count": 37,
   "id": "24703be9",
   "metadata": {},
   "outputs": [],
   "source": [
    "# Extracting features from each .wav file\n",
    "def extract_features(data, sample_rate):\n",
    "    # ZCR\n",
    "    result = np.array([])\n",
    "    zcr = np.mean(librosa.feature.zero_crossing_rate(y=data).T, axis=0)\n",
    "    result=np.hstack((result, zcr)) # stacking horizontally\n",
    "\n",
    "    # Chroma_stft\n",
    "    stft = np.abs(librosa.stft(data))\n",
    "    chroma_stft = np.mean(librosa.feature.chroma_stft(S=stft, sr=sample_rate).T, axis=0)\n",
    "    result = np.hstack((result, chroma_stft)) # stacking horizontally\n",
    "\n",
    "    # MFCC\n",
    "    mfcc = np.mean(librosa.feature.mfcc(y=data, sr=sample_rate).T, axis=0)\n",
    "    result = np.hstack((result, mfcc)) # stacking horizontally\n",
    "\n",
    "    # Root Mean Square Value\n",
    "    rms = np.mean(librosa.feature.rms(y=data).T, axis=0)\n",
    "    result = np.hstack((result, rms)) # stacking horizontally\n",
    "\n",
    "    # MelSpectogram\n",
    "    mel = np.mean(librosa.feature.melspectrogram(y=data, sr=sample_rate).T, axis=0)\n",
    "    result = np.hstack((result, mel)) # stacking horizontally\n",
    "    \n",
    "    return result"
   ]
  },
  {
   "cell_type": "code",
   "execution_count": 38,
   "id": "df4429c4",
   "metadata": {},
   "outputs": [],
   "source": [
    "def noise(data):\n",
    "    noise_amp = 0.035*np.random.uniform()*np.amax(data)\n",
    "    data = data + noise_amp*np.random.normal(size=data.shape[0])\n",
    "    return data\n",
    "\n",
    "def stretch(data, rate=0.8):\n",
    "    return librosa.effects.time_stretch(data, rate = rate)\n",
    "\n",
    "def shift(data):\n",
    "    shift_range = int(np.random.uniform(low=-5, high = 5)*1000)\n",
    "    return np.roll(data, shift_range)\n",
    "\n",
    "def pitch(data, sampling_rate, pitch_factor=0.7):\n",
    "    return librosa.effects.pitch_shift(data, sr = sampling_rate, n_steps = pitch_factor)\n"
   ]
  },
  {
   "cell_type": "code",
   "execution_count": 39,
   "id": "b02f1828",
   "metadata": {},
   "outputs": [],
   "source": [
    "#Emotions in the dataset\n",
    "emotions={\n",
    "  '01':'neutral',\n",
    "  #'02':'calm',\n",
    "  '03':'happy',\n",
    "  '04':'sad',\n",
    "  '05':'angry',\n",
    "  '06':'fearful',\n",
    "  #'07':'disgust',\n",
    "  #'08':'surprised'\n",
    "}\n",
    "\n",
    "#Emotions to observe\n",
    "#observed_emotions=['calm', 'happy', 'fearful', 'disgust', 'sad']\n"
   ]
  },
  {
   "cell_type": "code",
   "execution_count": 40,
   "id": "f996d92e",
   "metadata": {},
   "outputs": [],
   "source": [
    "emotions2={\n",
    "    'NEU': 'neutral',\n",
    "    'HAP': 'happy',\n",
    "    'SAD': 'sad',\n",
    "    'ANG': 'angry',\n",
    "    'FEA': 'fearful',\n",
    "}"
   ]
  },
  {
   "cell_type": "code",
   "execution_count": 41,
   "id": "0aa4489a",
   "metadata": {},
   "outputs": [],
   "source": [
    "def get_features(path, isTraining):\n",
    "    # duration and offset are used to take care of the no audio in start and the ending of each audio files as seen above.\n",
    "    #data, sample_rate = librosa.load(path, duration=2.5, offset=0.6)\n",
    "    data, sample_rate = librosa.load(path, duration=2, offset=0.6, sr=8025)\n",
    "    \n",
    "    # without augmentation\n",
    "    res1 = extract_features(data, sample_rate)\n",
    "    result = np.array(res1)\n",
    "    \n",
    "    # Augmenting only training data and skipping augmentation for test data\n",
    "    if isTraining:\n",
    "        \n",
    "        # data with noise\n",
    "        noise_data = noise(data)\n",
    "        res2 = extract_features(noise_data, sample_rate)\n",
    "        result = np.vstack((result, res2)) # stacking vertically\n",
    "\n",
    "        # data with stretching \n",
    "        stretched_data = stretch(data)\n",
    "        res3 = extract_features(stretched_data, sample_rate)\n",
    "        result = np.vstack((result, res3)) # stacking vertically\n",
    "        \n",
    "        # data with pitch offset\n",
    "        data_pitch = pitch(data, sample_rate)\n",
    "        res4 = extract_features(data_pitch, sample_rate)\n",
    "        result = np.vstack((result, res4)) # stacking vertically\n",
    "    \n",
    "    return result"
   ]
  },
  {
   "cell_type": "markdown",
   "id": "a62b0424",
   "metadata": {},
   "source": [
    "# New Data\n",
    "## Crema-D dataset"
   ]
  },
  {
   "cell_type": "code",
   "execution_count": 42,
   "id": "0f446730",
   "metadata": {},
   "outputs": [
    {
     "name": "stdout",
     "output_type": "stream",
     "text": [
      "['angry' 'neutral' 'sad' 'fearful' 'happy']\n"
     ]
    }
   ],
   "source": [
    "Creama = \"data2/\"\n",
    "creama_directory_list = os.listdir(Creama)\n",
    "\n",
    "file_emotion = []\n",
    "file_path = []\n",
    "for file in glob.glob(f\"{Creama}*\"):\n",
    "    part = file.split('.')[0]\n",
    "    part = part.split('_')\n",
    "    if part[2] not in emotions2.keys():\n",
    "        continue\n",
    "    file_emotion.append(part[2])\n",
    "    file_path.append(file)\n",
    "\n",
    "# dataframe for emotion of files\n",
    "emotion2_df = pd.DataFrame(file_emotion, columns=['Emotions'])\n",
    "\n",
    "# dataframe for path of files\n",
    "path2_df = pd.DataFrame(file_path, columns=['Path'])\n",
    "Creama_df = pd.concat([emotion2_df, path2_df], axis=1)\n",
    "\n",
    "# Mapping integers to corresponding emotions\n",
    "Creama_df = Creama_df.replace({'Emotions': emotions2})\n",
    "print(Creama_df[\"Emotions\"].unique())\n"
   ]
  },
  {
   "cell_type": "code",
   "execution_count": 43,
   "id": "cb984459",
   "metadata": {},
   "outputs": [],
   "source": [
    "# Creating Dataframes\n",
    "Ravdess = \"data/\"\n",
    "ravdess_directory_list = os.listdir(Ravdess)\n",
    "file_emotion = []\n",
    "file_path = []\n",
    "\n",
    "for folder in glob.glob(f\"{Ravdess}Actor_*\"):\n",
    "    # as their are 20 different actors in our previous directory we need to extract files for each actor.\n",
    "    actor = os.listdir(folder)\n",
    "    for file in actor:\n",
    "        part = file.split('.')[0]\n",
    "        part = part.split('-')\n",
    "        # third part in each file represents the emotion associated to that file.\n",
    "        if part[2] not in emotions.keys():\n",
    "            continue\n",
    "        file_emotion.append(int(part[2]))\n",
    "        file_path.append(folder + '/' + file)\n",
    "        \n",
    "# dataframe for emotion of files\n",
    "emotion_df = pd.DataFrame(file_emotion, columns=['Emotions'])\n",
    "\n",
    "\n",
    "# dataframe for path of files\n",
    "path_df = pd.DataFrame(file_path, columns=['Path'])\n",
    "Ravdess_df = pd.concat([emotion_df, path_df], axis=1)\n",
    "\n",
    "# Mapping integers to corresponding emotions\n",
    "Ravdess_df.Emotions.replace({1:'neutral', 3:'happy', 4:'sad', 5:'angry', 6:'fear'}, inplace=True)\n",
    "# ? \"\"\"Ravdess_df.head()\"\"\"\n",
    "\n",
    "data = pd.concat([Creama_df, Ravdess_df], axis=0)\n",
    "\n",
    "X = data[\"Path\"]\n",
    "Y = data[\"Emotions\"]"
   ]
  },
  {
   "cell_type": "code",
   "execution_count": 44,
   "id": "bb1a1a63",
   "metadata": {},
   "outputs": [],
   "source": [
    "X_train, X_test, Y_train, Y_test = train_test_split(X, Y, random_state=0, shuffle=True)"
   ]
  },
  {
   "cell_type": "code",
   "execution_count": 45,
   "id": "0aa2e4be",
   "metadata": {},
   "outputs": [
    {
     "name": "stdout",
     "output_type": "stream",
     "text": [
      "(5276,)\n",
      "(5276,)\n",
      "(1759,)\n",
      "(1759,)\n"
     ]
    }
   ],
   "source": [
    "print(np.shape(X_train))\n",
    "print(np.shape(Y_train))\n",
    "print(np.shape(X_test))\n",
    "print(np.shape(Y_test))"
   ]
  },
  {
   "cell_type": "code",
   "execution_count": 46,
   "id": "d8323543",
   "metadata": {
    "scrolled": false
   },
   "outputs": [
    {
     "ename": "KeyboardInterrupt",
     "evalue": "",
     "output_type": "error",
     "traceback": [
      "\u001b[0;31m---------------------------------------------------------------------------\u001b[0m",
      "\u001b[0;31mKeyboardInterrupt\u001b[0m                         Traceback (most recent call last)",
      "Cell \u001b[0;32mIn[46], line 3\u001b[0m\n\u001b[1;32m      1\u001b[0m X, Y \u001b[39m=\u001b[39m [], []\n\u001b[1;32m      2\u001b[0m \u001b[39mfor\u001b[39;00m path, emotion \u001b[39min\u001b[39;00m \u001b[39mzip\u001b[39m(X_train, Y_train):\n\u001b[0;32m----> 3\u001b[0m     feature \u001b[39m=\u001b[39m get_features(path, \u001b[39mTrue\u001b[39;49;00m)\n\u001b[1;32m      4\u001b[0m     \u001b[39mfor\u001b[39;00m ele \u001b[39min\u001b[39;00m feature:\n\u001b[1;32m      5\u001b[0m         X\u001b[39m.\u001b[39mappend(ele)\n",
      "Cell \u001b[0;32mIn[41], line 15\u001b[0m, in \u001b[0;36mget_features\u001b[0;34m(path, isTraining)\u001b[0m\n\u001b[1;32m     11\u001b[0m \u001b[39mif\u001b[39;00m isTraining:\n\u001b[1;32m     12\u001b[0m     \n\u001b[1;32m     13\u001b[0m     \u001b[39m# data with noise\u001b[39;00m\n\u001b[1;32m     14\u001b[0m     noise_data \u001b[39m=\u001b[39m noise(data)\n\u001b[0;32m---> 15\u001b[0m     res2 \u001b[39m=\u001b[39m extract_features(noise_data, sample_rate)\n\u001b[1;32m     16\u001b[0m     result \u001b[39m=\u001b[39m np\u001b[39m.\u001b[39mvstack((result, res2)) \u001b[39m# stacking vertically\u001b[39;00m\n\u001b[1;32m     18\u001b[0m     \u001b[39m# data with stretching \u001b[39;00m\n",
      "Cell \u001b[0;32mIn[37], line 14\u001b[0m, in \u001b[0;36mextract_features\u001b[0;34m(data, sample_rate)\u001b[0m\n\u001b[1;32m     11\u001b[0m result \u001b[39m=\u001b[39m np\u001b[39m.\u001b[39mhstack((result, chroma_stft)) \u001b[39m# stacking horizontally\u001b[39;00m\n\u001b[1;32m     13\u001b[0m \u001b[39m# MFCC\u001b[39;00m\n\u001b[0;32m---> 14\u001b[0m mfcc \u001b[39m=\u001b[39m np\u001b[39m.\u001b[39mmean(librosa\u001b[39m.\u001b[39;49mfeature\u001b[39m.\u001b[39;49mmfcc(y\u001b[39m=\u001b[39;49mdata, sr\u001b[39m=\u001b[39;49msample_rate)\u001b[39m.\u001b[39mT, axis\u001b[39m=\u001b[39m\u001b[39m0\u001b[39m)\n\u001b[1;32m     15\u001b[0m result \u001b[39m=\u001b[39m np\u001b[39m.\u001b[39mhstack((result, mfcc)) \u001b[39m# stacking horizontally\u001b[39;00m\n\u001b[1;32m     17\u001b[0m \u001b[39m# Root Mean Square Value\u001b[39;00m\n",
      "File \u001b[0;32m/Library/Frameworks/Python.framework/Versions/3.11/lib/python3.11/site-packages/librosa/feature/spectral.py:2002\u001b[0m, in \u001b[0;36mmfcc\u001b[0;34m(y, sr, S, n_mfcc, dct_type, norm, lifter, **kwargs)\u001b[0m\n\u001b[1;32m   1855\u001b[0m \u001b[39m\u001b[39m\u001b[39m\"\"\"Mel-frequency cepstral coefficients (MFCCs)\u001b[39;00m\n\u001b[1;32m   1856\u001b[0m \n\u001b[1;32m   1857\u001b[0m \u001b[39m.. warning:: If multi-channel audio input ``y`` is provided, the MFCC\u001b[39;00m\n\u001b[0;32m   (...)\u001b[0m\n\u001b[1;32m   1997\u001b[0m \u001b[39m>>> fig.colorbar(img2, ax=[ax[1]])\u001b[39;00m\n\u001b[1;32m   1998\u001b[0m \u001b[39m\"\"\"\u001b[39;00m\n\u001b[1;32m   2000\u001b[0m \u001b[39mif\u001b[39;00m S \u001b[39mis\u001b[39;00m \u001b[39mNone\u001b[39;00m:\n\u001b[1;32m   2001\u001b[0m     \u001b[39m# multichannel behavior may be different due to relative noise floor differences between channels\u001b[39;00m\n\u001b[0;32m-> 2002\u001b[0m     S \u001b[39m=\u001b[39m power_to_db(melspectrogram(y\u001b[39m=\u001b[39;49my, sr\u001b[39m=\u001b[39;49msr, \u001b[39m*\u001b[39;49m\u001b[39m*\u001b[39;49mkwargs))\n\u001b[1;32m   2004\u001b[0m M: np\u001b[39m.\u001b[39mndarray \u001b[39m=\u001b[39m scipy\u001b[39m.\u001b[39mfftpack\u001b[39m.\u001b[39mdct(S, axis\u001b[39m=\u001b[39m\u001b[39m-\u001b[39m\u001b[39m2\u001b[39m, \u001b[39mtype\u001b[39m\u001b[39m=\u001b[39mdct_type, norm\u001b[39m=\u001b[39mnorm)[\n\u001b[1;32m   2005\u001b[0m     \u001b[39m.\u001b[39m\u001b[39m.\u001b[39m\u001b[39m.\u001b[39m, :n_mfcc, :\n\u001b[1;32m   2006\u001b[0m ]\n\u001b[1;32m   2008\u001b[0m \u001b[39mif\u001b[39;00m lifter \u001b[39m>\u001b[39m \u001b[39m0\u001b[39m:\n\u001b[1;32m   2009\u001b[0m     \u001b[39m# shape lifter for broadcasting\u001b[39;00m\n",
      "File \u001b[0;32m/Library/Frameworks/Python.framework/Versions/3.11/lib/python3.11/site-packages/librosa/feature/spectral.py:2144\u001b[0m, in \u001b[0;36mmelspectrogram\u001b[0;34m(y, sr, S, n_fft, hop_length, win_length, window, center, pad_mode, power, **kwargs)\u001b[0m\n\u001b[1;32m   2021\u001b[0m \u001b[39mdef\u001b[39;00m \u001b[39mmelspectrogram\u001b[39m(\n\u001b[1;32m   2022\u001b[0m     \u001b[39m*\u001b[39m,\n\u001b[1;32m   2023\u001b[0m     y: Optional[np\u001b[39m.\u001b[39mndarray] \u001b[39m=\u001b[39m \u001b[39mNone\u001b[39;00m,\n\u001b[0;32m   (...)\u001b[0m\n\u001b[1;32m   2033\u001b[0m     \u001b[39m*\u001b[39m\u001b[39m*\u001b[39mkwargs: Any,\n\u001b[1;32m   2034\u001b[0m ) \u001b[39m-\u001b[39m\u001b[39m>\u001b[39m np\u001b[39m.\u001b[39mndarray:\n\u001b[1;32m   2035\u001b[0m \u001b[39m    \u001b[39m\u001b[39m\"\"\"Compute a mel-scaled spectrogram.\u001b[39;00m\n\u001b[1;32m   2036\u001b[0m \n\u001b[1;32m   2037\u001b[0m \u001b[39m    If a spectrogram input ``S`` is provided, then it is mapped directly onto\u001b[39;00m\n\u001b[0;32m   (...)\u001b[0m\n\u001b[1;32m   2141\u001b[0m \u001b[39m    >>> ax.set(title='Mel-frequency spectrogram')\u001b[39;00m\n\u001b[1;32m   2142\u001b[0m \u001b[39m    \"\"\"\u001b[39;00m\n\u001b[0;32m-> 2144\u001b[0m     S, n_fft \u001b[39m=\u001b[39m _spectrogram(\n\u001b[1;32m   2145\u001b[0m         y\u001b[39m=\u001b[39;49my,\n\u001b[1;32m   2146\u001b[0m         S\u001b[39m=\u001b[39;49mS,\n\u001b[1;32m   2147\u001b[0m         n_fft\u001b[39m=\u001b[39;49mn_fft,\n\u001b[1;32m   2148\u001b[0m         hop_length\u001b[39m=\u001b[39;49mhop_length,\n\u001b[1;32m   2149\u001b[0m         power\u001b[39m=\u001b[39;49mpower,\n\u001b[1;32m   2150\u001b[0m         win_length\u001b[39m=\u001b[39;49mwin_length,\n\u001b[1;32m   2151\u001b[0m         window\u001b[39m=\u001b[39;49mwindow,\n\u001b[1;32m   2152\u001b[0m         center\u001b[39m=\u001b[39;49mcenter,\n\u001b[1;32m   2153\u001b[0m         pad_mode\u001b[39m=\u001b[39;49mpad_mode,\n\u001b[1;32m   2154\u001b[0m     )\n\u001b[1;32m   2156\u001b[0m     \u001b[39m# Build a Mel filter\u001b[39;00m\n\u001b[1;32m   2157\u001b[0m     mel_basis \u001b[39m=\u001b[39m filters\u001b[39m.\u001b[39mmel(sr\u001b[39m=\u001b[39msr, n_fft\u001b[39m=\u001b[39mn_fft, \u001b[39m*\u001b[39m\u001b[39m*\u001b[39mkwargs)\n",
      "File \u001b[0;32m/Library/Frameworks/Python.framework/Versions/3.11/lib/python3.11/site-packages/librosa/core/spectrum.py:2838\u001b[0m, in \u001b[0;36m_spectrogram\u001b[0;34m(y, S, n_fft, hop_length, power, win_length, window, center, pad_mode)\u001b[0m\n\u001b[1;32m   2832\u001b[0m     \u001b[39mif\u001b[39;00m y \u001b[39mis\u001b[39;00m \u001b[39mNone\u001b[39;00m:\n\u001b[1;32m   2833\u001b[0m         \u001b[39mraise\u001b[39;00m ParameterError(\n\u001b[1;32m   2834\u001b[0m             \u001b[39m\"\u001b[39m\u001b[39mInput signal must be provided to compute a spectrogram\u001b[39m\u001b[39m\"\u001b[39m\n\u001b[1;32m   2835\u001b[0m         )\n\u001b[1;32m   2836\u001b[0m     S \u001b[39m=\u001b[39m (\n\u001b[1;32m   2837\u001b[0m         np\u001b[39m.\u001b[39mabs(\n\u001b[0;32m-> 2838\u001b[0m             stft(\n\u001b[1;32m   2839\u001b[0m                 y,\n\u001b[1;32m   2840\u001b[0m                 n_fft\u001b[39m=\u001b[39;49mn_fft,\n\u001b[1;32m   2841\u001b[0m                 hop_length\u001b[39m=\u001b[39;49mhop_length,\n\u001b[1;32m   2842\u001b[0m                 win_length\u001b[39m=\u001b[39;49mwin_length,\n\u001b[1;32m   2843\u001b[0m                 center\u001b[39m=\u001b[39;49mcenter,\n\u001b[1;32m   2844\u001b[0m                 window\u001b[39m=\u001b[39;49mwindow,\n\u001b[1;32m   2845\u001b[0m                 pad_mode\u001b[39m=\u001b[39;49mpad_mode,\n\u001b[1;32m   2846\u001b[0m             )\n\u001b[1;32m   2847\u001b[0m         )\n\u001b[1;32m   2848\u001b[0m         \u001b[39m*\u001b[39m\u001b[39m*\u001b[39m power\n\u001b[1;32m   2849\u001b[0m     )\n\u001b[1;32m   2851\u001b[0m \u001b[39mreturn\u001b[39;00m S, n_fft\n",
      "File \u001b[0;32m/Library/Frameworks/Python.framework/Versions/3.11/lib/python3.11/site-packages/librosa/core/spectrum.py:285\u001b[0m, in \u001b[0;36mstft\u001b[0;34m(y, n_fft, hop_length, win_length, window, center, dtype, pad_mode, out)\u001b[0m\n\u001b[1;32m    281\u001b[0m padding[\u001b[39m-\u001b[39m\u001b[39m1\u001b[39m] \u001b[39m=\u001b[39m (n_fft \u001b[39m/\u001b[39m\u001b[39m/\u001b[39m \u001b[39m2\u001b[39m, \u001b[39m0\u001b[39m)\n\u001b[1;32m    283\u001b[0m \u001b[39m# +1 here is to ensure enough samples to fill the window\u001b[39;00m\n\u001b[1;32m    284\u001b[0m \u001b[39m# fixes bug #1567\u001b[39;00m\n\u001b[0;32m--> 285\u001b[0m y_pre \u001b[39m=\u001b[39m np\u001b[39m.\u001b[39;49mpad(\n\u001b[1;32m    286\u001b[0m     y[\u001b[39m.\u001b[39;49m\u001b[39m.\u001b[39;49m\u001b[39m.\u001b[39;49m, : (start_k \u001b[39m-\u001b[39;49m \u001b[39m1\u001b[39;49m) \u001b[39m*\u001b[39;49m hop_length \u001b[39m-\u001b[39;49m n_fft \u001b[39m/\u001b[39;49m\u001b[39m/\u001b[39;49m \u001b[39m2\u001b[39;49m \u001b[39m+\u001b[39;49m n_fft \u001b[39m+\u001b[39;49m \u001b[39m1\u001b[39;49m],\n\u001b[1;32m    287\u001b[0m     padding,\n\u001b[1;32m    288\u001b[0m     mode\u001b[39m=\u001b[39;49mpad_mode,\n\u001b[1;32m    289\u001b[0m )\n\u001b[1;32m    290\u001b[0m y_frames_pre \u001b[39m=\u001b[39m util\u001b[39m.\u001b[39mframe(y_pre, frame_length\u001b[39m=\u001b[39mn_fft, hop_length\u001b[39m=\u001b[39mhop_length)\n\u001b[1;32m    291\u001b[0m \u001b[39m# Trim this down to the exact number of frames we should have\u001b[39;00m\n",
      "File \u001b[0;32m<__array_function__ internals>:200\u001b[0m, in \u001b[0;36mpad\u001b[0;34m(*args, **kwargs)\u001b[0m\n",
      "File \u001b[0;32m/Library/Frameworks/Python.framework/Versions/3.11/lib/python3.11/site-packages/numpy/lib/arraypad.py:529\u001b[0m, in \u001b[0;36mpad\u001b[0;34m(array, pad_width, mode, **kwargs)\u001b[0m\n\u001b[1;32m    522\u001b[0m     \u001b[39mreturn\u001b[39;00m (array,)\n\u001b[1;32m    525\u001b[0m \u001b[39m###############################################################################\u001b[39;00m\n\u001b[1;32m    526\u001b[0m \u001b[39m# Public functions\u001b[39;00m\n\u001b[0;32m--> 529\u001b[0m \u001b[39m@array_function_dispatch\u001b[39m(_pad_dispatcher, module\u001b[39m=\u001b[39m\u001b[39m'\u001b[39m\u001b[39mnumpy\u001b[39m\u001b[39m'\u001b[39m)\n\u001b[1;32m    530\u001b[0m \u001b[39mdef\u001b[39;00m \u001b[39mpad\u001b[39m(array, pad_width, mode\u001b[39m=\u001b[39m\u001b[39m'\u001b[39m\u001b[39mconstant\u001b[39m\u001b[39m'\u001b[39m, \u001b[39m*\u001b[39m\u001b[39m*\u001b[39mkwargs):\n\u001b[1;32m    531\u001b[0m \u001b[39m    \u001b[39m\u001b[39m\"\"\"\u001b[39;00m\n\u001b[1;32m    532\u001b[0m \u001b[39m    Pad an array.\u001b[39;00m\n\u001b[1;32m    533\u001b[0m \n\u001b[0;32m   (...)\u001b[0m\n\u001b[1;32m    735\u001b[0m \u001b[39m           [100, 100, 100, 100, 100, 100, 100]])\u001b[39;00m\n\u001b[1;32m    736\u001b[0m \u001b[39m    \"\"\"\u001b[39;00m\n\u001b[1;32m    737\u001b[0m     array \u001b[39m=\u001b[39m np\u001b[39m.\u001b[39masarray(array)\n",
      "\u001b[0;31mKeyboardInterrupt\u001b[0m: "
     ]
    }
   ],
   "source": [
    "X, Y = [], []\n",
    "for path, emotion in zip(X_train, Y_train):\n",
    "    feature = get_features(path, True)\n",
    "    for ele in feature:\n",
    "        X.append(ele)\n",
    "        # appending emotion 4 times as we have applied 4 augmentation techniques on each audio file\n",
    "        Y.append(emotion)\n",
    "x_train = X\n",
    "y_train = Y\n",
    "print(x_train[0])\n",
    "print(y_train[0])"
   ]
  },
  {
   "cell_type": "code",
   "execution_count": null,
   "id": "904d3001",
   "metadata": {},
   "outputs": [
    {
     "data": {
      "text/html": [
       "<div>\n",
       "<style scoped>\n",
       "    .dataframe tbody tr th:only-of-type {\n",
       "        vertical-align: middle;\n",
       "    }\n",
       "\n",
       "    .dataframe tbody tr th {\n",
       "        vertical-align: top;\n",
       "    }\n",
       "\n",
       "    .dataframe thead th {\n",
       "        text-align: right;\n",
       "    }\n",
       "</style>\n",
       "<table border=\"1\" class=\"dataframe\">\n",
       "  <thead>\n",
       "    <tr style=\"text-align: right;\">\n",
       "      <th></th>\n",
       "      <th>0</th>\n",
       "      <th>1</th>\n",
       "      <th>2</th>\n",
       "      <th>3</th>\n",
       "      <th>4</th>\n",
       "      <th>5</th>\n",
       "      <th>6</th>\n",
       "      <th>7</th>\n",
       "      <th>8</th>\n",
       "      <th>9</th>\n",
       "      <th>...</th>\n",
       "      <th>153</th>\n",
       "      <th>154</th>\n",
       "      <th>155</th>\n",
       "      <th>156</th>\n",
       "      <th>157</th>\n",
       "      <th>158</th>\n",
       "      <th>159</th>\n",
       "      <th>160</th>\n",
       "      <th>161</th>\n",
       "      <th>labels</th>\n",
       "    </tr>\n",
       "  </thead>\n",
       "  <tbody>\n",
       "    <tr>\n",
       "      <th>0</th>\n",
       "      <td>0.142563</td>\n",
       "      <td>0.541626</td>\n",
       "      <td>0.427574</td>\n",
       "      <td>0.370788</td>\n",
       "      <td>0.516711</td>\n",
       "      <td>0.609493</td>\n",
       "      <td>0.656977</td>\n",
       "      <td>0.500112</td>\n",
       "      <td>0.454026</td>\n",
       "      <td>0.584128</td>\n",
       "      <td>...</td>\n",
       "      <td>0.000919</td>\n",
       "      <td>0.000895</td>\n",
       "      <td>0.000541</td>\n",
       "      <td>0.000355</td>\n",
       "      <td>0.000247</td>\n",
       "      <td>0.000344</td>\n",
       "      <td>0.000296</td>\n",
       "      <td>0.000039</td>\n",
       "      <td>8.814712e-07</td>\n",
       "      <td>sad</td>\n",
       "    </tr>\n",
       "    <tr>\n",
       "      <th>1</th>\n",
       "      <td>0.242447</td>\n",
       "      <td>0.646209</td>\n",
       "      <td>0.482547</td>\n",
       "      <td>0.446199</td>\n",
       "      <td>0.562951</td>\n",
       "      <td>0.643169</td>\n",
       "      <td>0.692361</td>\n",
       "      <td>0.565895</td>\n",
       "      <td>0.534892</td>\n",
       "      <td>0.646460</td>\n",
       "      <td>...</td>\n",
       "      <td>0.003799</td>\n",
       "      <td>0.003405</td>\n",
       "      <td>0.003379</td>\n",
       "      <td>0.003024</td>\n",
       "      <td>0.002490</td>\n",
       "      <td>0.003103</td>\n",
       "      <td>0.002973</td>\n",
       "      <td>0.002533</td>\n",
       "      <td>2.872258e-03</td>\n",
       "      <td>sad</td>\n",
       "    </tr>\n",
       "    <tr>\n",
       "      <th>2</th>\n",
       "      <td>0.149792</td>\n",
       "      <td>0.523566</td>\n",
       "      <td>0.359173</td>\n",
       "      <td>0.386047</td>\n",
       "      <td>0.566976</td>\n",
       "      <td>0.613608</td>\n",
       "      <td>0.615938</td>\n",
       "      <td>0.445678</td>\n",
       "      <td>0.435702</td>\n",
       "      <td>0.627575</td>\n",
       "      <td>...</td>\n",
       "      <td>0.000488</td>\n",
       "      <td>0.000389</td>\n",
       "      <td>0.000277</td>\n",
       "      <td>0.000210</td>\n",
       "      <td>0.000123</td>\n",
       "      <td>0.000162</td>\n",
       "      <td>0.000142</td>\n",
       "      <td>0.000023</td>\n",
       "      <td>5.559601e-07</td>\n",
       "      <td>sad</td>\n",
       "    </tr>\n",
       "    <tr>\n",
       "      <th>3</th>\n",
       "      <td>0.151443</td>\n",
       "      <td>0.582611</td>\n",
       "      <td>0.442894</td>\n",
       "      <td>0.352675</td>\n",
       "      <td>0.490272</td>\n",
       "      <td>0.602543</td>\n",
       "      <td>0.638238</td>\n",
       "      <td>0.501230</td>\n",
       "      <td>0.415887</td>\n",
       "      <td>0.540462</td>\n",
       "      <td>...</td>\n",
       "      <td>0.000349</td>\n",
       "      <td>0.000626</td>\n",
       "      <td>0.000525</td>\n",
       "      <td>0.000531</td>\n",
       "      <td>0.000380</td>\n",
       "      <td>0.000214</td>\n",
       "      <td>0.000110</td>\n",
       "      <td>0.000022</td>\n",
       "      <td>7.930648e-07</td>\n",
       "      <td>sad</td>\n",
       "    </tr>\n",
       "    <tr>\n",
       "      <th>4</th>\n",
       "      <td>0.153275</td>\n",
       "      <td>0.466349</td>\n",
       "      <td>0.670371</td>\n",
       "      <td>0.679764</td>\n",
       "      <td>0.714558</td>\n",
       "      <td>0.730964</td>\n",
       "      <td>0.628781</td>\n",
       "      <td>0.532350</td>\n",
       "      <td>0.601436</td>\n",
       "      <td>0.687315</td>\n",
       "      <td>...</td>\n",
       "      <td>0.000776</td>\n",
       "      <td>0.000694</td>\n",
       "      <td>0.000658</td>\n",
       "      <td>0.000603</td>\n",
       "      <td>0.000240</td>\n",
       "      <td>0.000189</td>\n",
       "      <td>0.000125</td>\n",
       "      <td>0.000014</td>\n",
       "      <td>1.404203e-07</td>\n",
       "      <td>fear</td>\n",
       "    </tr>\n",
       "  </tbody>\n",
       "</table>\n",
       "<p>5 rows × 163 columns</p>\n",
       "</div>"
      ],
      "text/plain": [
       "          0         1         2         3         4         5         6  \\\n",
       "0  0.142563  0.541626  0.427574  0.370788  0.516711  0.609493  0.656977   \n",
       "1  0.242447  0.646209  0.482547  0.446199  0.562951  0.643169  0.692361   \n",
       "2  0.149792  0.523566  0.359173  0.386047  0.566976  0.613608  0.615938   \n",
       "3  0.151443  0.582611  0.442894  0.352675  0.490272  0.602543  0.638238   \n",
       "4  0.153275  0.466349  0.670371  0.679764  0.714558  0.730964  0.628781   \n",
       "\n",
       "          7         8         9  ...       153       154       155       156  \\\n",
       "0  0.500112  0.454026  0.584128  ...  0.000919  0.000895  0.000541  0.000355   \n",
       "1  0.565895  0.534892  0.646460  ...  0.003799  0.003405  0.003379  0.003024   \n",
       "2  0.445678  0.435702  0.627575  ...  0.000488  0.000389  0.000277  0.000210   \n",
       "3  0.501230  0.415887  0.540462  ...  0.000349  0.000626  0.000525  0.000531   \n",
       "4  0.532350  0.601436  0.687315  ...  0.000776  0.000694  0.000658  0.000603   \n",
       "\n",
       "        157       158       159       160           161  labels  \n",
       "0  0.000247  0.000344  0.000296  0.000039  8.814712e-07     sad  \n",
       "1  0.002490  0.003103  0.002973  0.002533  2.872258e-03     sad  \n",
       "2  0.000123  0.000162  0.000142  0.000023  5.559601e-07     sad  \n",
       "3  0.000380  0.000214  0.000110  0.000022  7.930648e-07     sad  \n",
       "4  0.000240  0.000189  0.000125  0.000014  1.404203e-07    fear  \n",
       "\n",
       "[5 rows x 163 columns]"
      ]
     },
     "execution_count": 12,
     "metadata": {},
     "output_type": "execute_result"
    }
   ],
   "source": [
    "# Saving features in a csv file to avoid redundant feature extraction\n",
    "Features = pd.DataFrame(x_train)\n",
    "Features['labels'] = y_train\n",
    "Features.to_csv('features.csv', index=False)\n",
    "Features.head()"
   ]
  },
  {
   "cell_type": "code",
   "execution_count": null,
   "id": "c6be64a2",
   "metadata": {},
   "outputs": [
    {
     "name": "stdout",
     "output_type": "stream",
     "text": [
      "['sad' 'sad' 'sad' ... 'angry' 'angry' 'angry']\n"
     ]
    }
   ],
   "source": [
    "x_train = Features.iloc[: ,:-1].values\n",
    "y_train = Features['labels'].values\n",
    "print(y_train)"
   ]
  },
  {
   "cell_type": "code",
   "execution_count": null,
   "id": "c7cee47f",
   "metadata": {},
   "outputs": [
    {
     "name": "stdout",
     "output_type": "stream",
     "text": [
      "[[0. 0. 0. 0. 1.]\n",
      " [0. 0. 0. 0. 1.]\n",
      " [0. 0. 0. 0. 1.]\n",
      " ...\n",
      " [1. 0. 0. 0. 0.]\n",
      " [1. 0. 0. 0. 0.]\n",
      " [1. 0. 0. 0. 0.]]\n"
     ]
    }
   ],
   "source": [
    "encoder = sklearn.preprocessing.OneHotEncoder()\n",
    "y_train = encoder.fit_transform(np.array(y_train).reshape(-1,1)).toarray()\n",
    "print(y_train)"
   ]
  },
  {
   "cell_type": "code",
   "execution_count": null,
   "id": "e59ad66f",
   "metadata": {},
   "outputs": [
    {
     "name": "stdout",
     "output_type": "stream",
     "text": [
      "(216, 162)\n",
      "(216,)\n"
     ]
    }
   ],
   "source": [
    "X, Y = [], []\n",
    "for path, emotion in zip(X_test, Y_test):\n",
    "    feature = get_features(path, False)   \n",
    "    X.append(feature)\n",
    "    Y.append(emotion)\n",
    "\n",
    "print(np.shape(X))\n",
    "print(np.shape(Y))\n",
    "x_test = np.array(X)\n",
    "y_test = np.array(Y)\n"
   ]
  },
  {
   "cell_type": "code",
   "execution_count": null,
   "id": "bf54dc00",
   "metadata": {},
   "outputs": [
    {
     "data": {
      "text/plain": [
       "55     angry\n",
       "316    happy\n",
       "252      sad\n",
       "262    happy\n",
       "31     angry\n",
       "Name: Emotions, dtype: object"
      ]
     },
     "execution_count": 16,
     "metadata": {},
     "output_type": "execute_result"
    }
   ],
   "source": [
    "Y_test.head(5)"
   ]
  },
  {
   "cell_type": "code",
   "execution_count": null,
   "id": "6ae3a53f",
   "metadata": {},
   "outputs": [
    {
     "data": {
      "text/plain": [
       "55     data/Actor_11/03-01-05-01-02-02-11.wav\n",
       "316    data/Actor_04/03-01-03-01-02-02-04.wav\n",
       "252    data/Actor_17/03-01-04-02-02-02-17.wav\n",
       "262    data/Actor_17/03-01-03-01-02-01-17.wav\n",
       "31     data/Actor_16/03-01-05-01-01-01-16.wav\n",
       "Name: Path, dtype: object"
      ]
     },
     "execution_count": 17,
     "metadata": {},
     "output_type": "execute_result"
    }
   ],
   "source": [
    "X_test.head(5)"
   ]
  },
  {
   "cell_type": "code",
   "execution_count": null,
   "id": "afb211d8",
   "metadata": {},
   "outputs": [],
   "source": [
    "encoder = sklearn.preprocessing.OneHotEncoder()\n",
    "y_test = encoder.fit_transform(np.array(y_test).reshape(-1,1)).toarray()"
   ]
  },
  {
   "cell_type": "code",
   "execution_count": null,
   "id": "76164e33",
   "metadata": {},
   "outputs": [
    {
     "data": {
      "text/plain": [
       "((2592, 162), (2592, 5), (216, 162), (216, 5))"
      ]
     },
     "execution_count": 19,
     "metadata": {},
     "output_type": "execute_result"
    }
   ],
   "source": [
    "# Normalization\n",
    "scaler = sklearn.preprocessing.StandardScaler()\n",
    "x_train = scaler.fit_transform(x_train)\n",
    "x_test = scaler.transform(x_test)\n",
    "x_train.shape, y_train.shape, x_test.shape, y_test.shape"
   ]
  },
  {
   "cell_type": "code",
   "execution_count": null,
   "id": "3228786c",
   "metadata": {},
   "outputs": [
    {
     "name": "stdout",
     "output_type": "stream",
     "text": [
      "Accuracy: 0.5324074074074074\n"
     ]
    }
   ],
   "source": [
    "model1=MLPClassifier(alpha=0.01, batch_size=64, epsilon=1e-08, hidden_layer_sizes=(500,), learning_rate='adaptive', max_iter=500)\n",
    "model1.fit(x_train,y_train)\n",
    "score = model1.score(x_test, y_test)\n",
    "print(\"Accuracy:\", score)"
   ]
  },
  {
   "cell_type": "code",
   "execution_count": null,
   "id": "a1164fe9",
   "metadata": {},
   "outputs": [
    {
     "data": {
      "text/plain": [
       "((2592, 162, 1), (2592, 5), (216, 162, 1), (216, 5))"
      ]
     },
     "execution_count": 21,
     "metadata": {},
     "output_type": "execute_result"
    }
   ],
   "source": [
    "# Reshaping train and test data for new model\n",
    "x_train = np.expand_dims(x_train, axis=2)\n",
    "x_test = np.expand_dims(x_test, axis=2)\n",
    "x_train.shape, y_train.shape, x_test.shape, y_test.shape"
   ]
  },
  {
   "cell_type": "markdown",
   "id": "25f7f26a",
   "metadata": {},
   "source": [
    "# old model\n",
    "model=Sequential()\n",
    "model.add(Conv1D(256, kernel_size=5, strides=1, padding='same', activation='relu', input_shape=(x_train.shape[1], 1)))\n",
    "model.add(MaxPooling1D(pool_size=5, strides = 2, padding = 'same'))\n",
    "\n",
    "model.add(Conv1D(256, kernel_size=5, strides=1, padding='same', activation='relu'))\n",
    "model.add(MaxPooling1D(pool_size=5, strides = 2, padding = 'same'))\n",
    "\n",
    "model.add(Conv1D(128, kernel_size=5, strides=1, padding='same', activation='relu'))\n",
    "model.add(MaxPooling1D(pool_size=5, strides = 2, padding = 'same'))\n",
    "model.add(Dropout(0.2))\n",
    "\n",
    "model.add(Conv1D(64, kernel_size=5, strides=1, padding='same', activation='relu'))\n",
    "model.add(MaxPooling1D(pool_size=5, strides = 2, padding = 'same'))\n",
    "\n",
    "model.add(Flatten())\n",
    "model.add(Dense(units=32, activation='relu'))\n",
    "model.add(Dropout(0.3))\n",
    "\n",
    "model.add(Dense(units=8, activation='softmax'))\n",
    "model.compile(optimizer = 'adam' , loss = 'categorical_crossentropy' , metrics = ['accuracy'])\n",
    "\n",
    "model.summary()"
   ]
  },
  {
   "cell_type": "code",
   "execution_count": null,
   "id": "1860e403",
   "metadata": {},
   "outputs": [
    {
     "name": "stdout",
     "output_type": "stream",
     "text": [
      "Model: \"sequential\"\n",
      "_________________________________________________________________\n",
      " Layer (type)                Output Shape              Param #   \n",
      "=================================================================\n",
      " conv1d (Conv1D)             (None, 162, 256)          2304      \n",
      "                                                                 \n",
      " conv1d_1 (Conv1D)           (None, 162, 256)          524544    \n",
      "                                                                 \n",
      " batch_normalization (BatchN  (None, 162, 256)         1024      \n",
      " ormalization)                                                   \n",
      "                                                                 \n",
      " dropout (Dropout)           (None, 162, 256)          0         \n",
      "                                                                 \n",
      " max_pooling1d (MaxPooling1D  (None, 20, 256)          0         \n",
      " )                                                               \n",
      "                                                                 \n",
      " conv1d_2 (Conv1D)           (None, 20, 128)           262272    \n",
      "                                                                 \n",
      " conv1d_3 (Conv1D)           (None, 20, 128)           131200    \n",
      "                                                                 \n",
      " conv1d_4 (Conv1D)           (None, 20, 128)           131200    \n",
      "                                                                 \n",
      " conv1d_5 (Conv1D)           (None, 20, 128)           131200    \n",
      "                                                                 \n",
      " batch_normalization_1 (Batc  (None, 20, 128)          512       \n",
      " hNormalization)                                                 \n",
      "                                                                 \n",
      " dropout_1 (Dropout)         (None, 20, 128)           0         \n",
      "                                                                 \n",
      " max_pooling1d_1 (MaxPooling  (None, 2, 128)           0         \n",
      " 1D)                                                             \n",
      "                                                                 \n",
      " conv1d_6 (Conv1D)           (None, 2, 64)             65600     \n",
      "                                                                 \n",
      " conv1d_7 (Conv1D)           (None, 2, 64)             32832     \n",
      "                                                                 \n",
      " flatten (Flatten)           (None, 128)               0         \n",
      "                                                                 \n",
      " dense (Dense)               (None, 5)                 645       \n",
      "                                                                 \n",
      "=================================================================\n",
      "Total params: 1,283,333\n",
      "Trainable params: 1,282,565\n",
      "Non-trainable params: 768\n",
      "_________________________________________________________________\n"
     ]
    }
   ],
   "source": [
    "model = Sequential()\n",
    "model.add(Conv1D(256, 8, padding='same',activation='relu', input_shape=(x_train.shape[1],1)))  # X_train.shape[1] = No. of Columns\n",
    "model.add(Conv1D(256, 8, padding='same', activation='relu'))\n",
    "model.add(BatchNormalization())\n",
    "model.add(Dropout(0.25))\n",
    "model.add(MaxPooling1D(pool_size=(8)))\n",
    "model.add(Conv1D(128, 8, padding='same', activation='relu'))\n",
    "model.add(Conv1D(128, 8, padding='same',activation='relu'))\n",
    "model.add(Conv1D(128, 8, padding='same',activation='relu'))\n",
    "model.add(Conv1D(128, 8, padding='same',activation='relu'))\n",
    "model.add(BatchNormalization())\n",
    "model.add(Dropout(0.25))\n",
    "model.add(MaxPooling1D(pool_size=(8)))\n",
    "model.add(Conv1D(64, 8, padding='same',activation='relu'))\n",
    "model.add(Conv1D(64, 8, padding='same',activation='relu'))\n",
    "model.add(Flatten())\n",
    "model.add(Dense(y_train.shape[1],activation='softmax')) # Target class number\n",
    "model.compile(optimizer = 'adam' , loss = 'categorical_crossentropy' , metrics = ['accuracy'])\n",
    "model.summary()"
   ]
  },
  {
   "cell_type": "code",
   "execution_count": null,
   "id": "11e1a441",
   "metadata": {
    "scrolled": false
   },
   "outputs": [
    {
     "name": "stdout",
     "output_type": "stream",
     "text": [
      "Epoch 1/50\n",
      "162/162 [==============================] - 16s 79ms/step - loss: 1.4701 - accuracy: 0.3407 - val_loss: 1.5157 - val_accuracy: 0.3472 - lr: 0.0010\n",
      "Epoch 2/50\n",
      "162/162 [==============================] - 12s 76ms/step - loss: 1.3675 - accuracy: 0.3843 - val_loss: 2.0455 - val_accuracy: 0.2963 - lr: 0.0010\n",
      "Epoch 3/50\n",
      "162/162 [==============================] - 12s 71ms/step - loss: 1.3004 - accuracy: 0.4167 - val_loss: 1.3622 - val_accuracy: 0.4167 - lr: 0.0010\n",
      "Epoch 4/50\n",
      "162/162 [==============================] - 9s 57ms/step - loss: 1.2171 - accuracy: 0.4610 - val_loss: 1.2675 - val_accuracy: 0.4398 - lr: 0.0010\n",
      "Epoch 5/50\n",
      "162/162 [==============================] - 10s 61ms/step - loss: 1.1567 - accuracy: 0.5012 - val_loss: 1.2650 - val_accuracy: 0.4630 - lr: 0.0010\n",
      "Epoch 6/50\n",
      "162/162 [==============================] - 11s 68ms/step - loss: 1.0963 - accuracy: 0.5285 - val_loss: 2.0814 - val_accuracy: 0.3519 - lr: 0.0010\n",
      "Epoch 7/50\n",
      "162/162 [==============================] - 10s 63ms/step - loss: 1.0547 - accuracy: 0.5486 - val_loss: 1.1222 - val_accuracy: 0.5556 - lr: 0.0010\n",
      "Epoch 8/50\n",
      "162/162 [==============================] - 12s 73ms/step - loss: 0.9673 - accuracy: 0.5895 - val_loss: 2.2519 - val_accuracy: 0.3704 - lr: 0.0010\n",
      "Epoch 9/50\n",
      "162/162 [==============================] - 10s 61ms/step - loss: 0.9023 - accuracy: 0.6242 - val_loss: 2.1724 - val_accuracy: 0.4074 - lr: 0.0010\n",
      "Epoch 10/50\n",
      "162/162 [==============================] - 10s 62ms/step - loss: 0.7307 - accuracy: 0.6971 - val_loss: 2.9595 - val_accuracy: 0.3750 - lr: 4.0000e-04\n",
      "Epoch 11/50\n",
      "162/162 [==============================] - 9s 59ms/step - loss: 0.6404 - accuracy: 0.7438 - val_loss: 1.7766 - val_accuracy: 0.4769 - lr: 4.0000e-04\n",
      "Epoch 12/50\n",
      "162/162 [==============================] - 10s 61ms/step - loss: 0.5278 - accuracy: 0.7890 - val_loss: 1.3170 - val_accuracy: 0.5741 - lr: 1.6000e-04\n",
      "Epoch 13/50\n",
      "162/162 [==============================] - 9s 58ms/step - loss: 0.4679 - accuracy: 0.8059 - val_loss: 1.1793 - val_accuracy: 0.6157 - lr: 1.6000e-04\n",
      "Epoch 14/50\n",
      "162/162 [==============================] - 10s 63ms/step - loss: 0.4159 - accuracy: 0.8387 - val_loss: 1.5047 - val_accuracy: 0.5694 - lr: 6.4000e-05\n",
      "Epoch 15/50\n",
      "162/162 [==============================] - 10s 64ms/step - loss: 0.3872 - accuracy: 0.8526 - val_loss: 1.3916 - val_accuracy: 0.6157 - lr: 6.4000e-05\n",
      "Epoch 16/50\n",
      "162/162 [==============================] - 10s 60ms/step - loss: 0.3677 - accuracy: 0.8611 - val_loss: 1.5122 - val_accuracy: 0.5926 - lr: 2.5600e-05\n",
      "Epoch 17/50\n",
      "162/162 [==============================] - 10s 62ms/step - loss: 0.3696 - accuracy: 0.8538 - val_loss: 1.5187 - val_accuracy: 0.5972 - lr: 2.5600e-05\n"
     ]
    }
   ],
   "source": [
    "early_stopping = EarlyStopping(monitor='val_loss', patience=10)\n",
    "rlrp = ReduceLROnPlateau(monitor='val_loss', factor=0.4, verbose=0, patience=2, min_lr=0.0000001)\n",
    "history=model.fit(x_train, y_train, batch_size=16, epochs=50, validation_data=(x_test, y_test), callbacks=[rlrp, early_stopping])"
   ]
  },
  {
   "cell_type": "code",
   "execution_count": null,
   "id": "d16bd49e",
   "metadata": {},
   "outputs": [
    {
     "name": "stdout",
     "output_type": "stream",
     "text": [
      "7/7 [==============================] - 0s 19ms/step - loss: 1.5187 - accuracy: 0.5972\n",
      "Accuracy of our model on test data :  59.72222089767456 %\n"
     ]
    }
   ],
   "source": [
    "print(\"Accuracy of our model on test data : \" , model.evaluate(x_test, y_test)[1]*100 , \"%\")"
   ]
  },
  {
   "cell_type": "code",
   "execution_count": null,
   "id": "39c7950c",
   "metadata": {},
   "outputs": [
    {
     "name": "stdout",
     "output_type": "stream",
     "text": [
      "7/7 [==============================] - 0s 17ms/step\n"
     ]
    },
    {
     "data": {
      "text/html": [
       "<div>\n",
       "<style scoped>\n",
       "    .dataframe tbody tr th:only-of-type {\n",
       "        vertical-align: middle;\n",
       "    }\n",
       "\n",
       "    .dataframe tbody tr th {\n",
       "        vertical-align: top;\n",
       "    }\n",
       "\n",
       "    .dataframe thead th {\n",
       "        text-align: right;\n",
       "    }\n",
       "</style>\n",
       "<table border=\"1\" class=\"dataframe\">\n",
       "  <thead>\n",
       "    <tr style=\"text-align: right;\">\n",
       "      <th></th>\n",
       "      <th>Predicted Labels</th>\n",
       "      <th>Actual Labels</th>\n",
       "    </tr>\n",
       "  </thead>\n",
       "  <tbody>\n",
       "    <tr>\n",
       "      <th>0</th>\n",
       "      <td>angry</td>\n",
       "      <td>angry</td>\n",
       "    </tr>\n",
       "    <tr>\n",
       "      <th>1</th>\n",
       "      <td>happy</td>\n",
       "      <td>happy</td>\n",
       "    </tr>\n",
       "    <tr>\n",
       "      <th>2</th>\n",
       "      <td>fear</td>\n",
       "      <td>sad</td>\n",
       "    </tr>\n",
       "    <tr>\n",
       "      <th>3</th>\n",
       "      <td>happy</td>\n",
       "      <td>happy</td>\n",
       "    </tr>\n",
       "    <tr>\n",
       "      <th>4</th>\n",
       "      <td>angry</td>\n",
       "      <td>angry</td>\n",
       "    </tr>\n",
       "    <tr>\n",
       "      <th>5</th>\n",
       "      <td>neutral</td>\n",
       "      <td>happy</td>\n",
       "    </tr>\n",
       "    <tr>\n",
       "      <th>6</th>\n",
       "      <td>happy</td>\n",
       "      <td>happy</td>\n",
       "    </tr>\n",
       "    <tr>\n",
       "      <th>7</th>\n",
       "      <td>neutral</td>\n",
       "      <td>neutral</td>\n",
       "    </tr>\n",
       "    <tr>\n",
       "      <th>8</th>\n",
       "      <td>fear</td>\n",
       "      <td>fear</td>\n",
       "    </tr>\n",
       "    <tr>\n",
       "      <th>9</th>\n",
       "      <td>sad</td>\n",
       "      <td>sad</td>\n",
       "    </tr>\n",
       "  </tbody>\n",
       "</table>\n",
       "</div>"
      ],
      "text/plain": [
       "  Predicted Labels Actual Labels\n",
       "0            angry         angry\n",
       "1            happy         happy\n",
       "2             fear           sad\n",
       "3            happy         happy\n",
       "4            angry         angry\n",
       "5          neutral         happy\n",
       "6            happy         happy\n",
       "7          neutral       neutral\n",
       "8             fear          fear\n",
       "9              sad           sad"
      ]
     },
     "execution_count": 25,
     "metadata": {},
     "output_type": "execute_result"
    }
   ],
   "source": [
    "pred_test = model.predict(x_test)\n",
    "y_pred = encoder.inverse_transform(pred_test)\n",
    "y_test = encoder.inverse_transform(y_test)\n",
    "df = pd.DataFrame(columns=['Predicted Labels', 'Actual Labels'])\n",
    "df['Predicted Labels'] = y_pred.flatten()\n",
    "df['Actual Labels'] = y_test.flatten()\n",
    "df.head(10)\n"
   ]
  },
  {
   "cell_type": "code",
   "execution_count": null,
   "id": "9eda3f36",
   "metadata": {},
   "outputs": [
    {
     "data": {
      "image/png": "[encoded data removed]",
      "text/plain": [
       "<Figure size 1200x1000 with 2 Axes>"
      ]
     },
     "metadata": {},
     "output_type": "display_data"
    }
   ],
   "source": [
    "cm = sklearn.metrics.confusion_matrix(y_test, y_pred)\n",
    "plt.figure(figsize = (12, 10))\n",
    "cm = pd.DataFrame(cm , index = [i for i in encoder.categories_] , columns = [i for i in encoder.categories_])\n",
    "sns.heatmap(cm, linecolor='white', cmap='Blues', linewidth=1, annot=True, fmt='')\n",
    "plt.title('Confusion Matrix', size=20)\n",
    "plt.xlabel('Predicted Labels', size=14)\n",
    "plt.ylabel('Actual Labels', size=14)\n",
    "plt.show()"
   ]
  },
  {
   "cell_type": "code",
   "execution_count": null,
   "id": "db78a11c",
   "metadata": {},
   "outputs": [
    {
     "name": "stdout",
     "output_type": "stream",
     "text": [
      "              precision    recall  f1-score   support\n",
      "\n",
      "       angry       0.82      0.75      0.79        44\n",
      "        fear       0.65      0.65      0.65        46\n",
      "       happy       0.65      0.56      0.60        54\n",
      "     neutral       0.31      0.64      0.42        22\n",
      "         sad       0.56      0.44      0.49        50\n",
      "\n",
      "    accuracy                           0.60       216\n",
      "   macro avg       0.60      0.61      0.59       216\n",
      "weighted avg       0.63      0.60      0.61       216\n",
      "\n"
     ]
    }
   ],
   "source": [
    "print(sklearn.metrics.classification_report(y_test, y_pred))"
   ]
  },
  {
   "cell_type": "code",
   "execution_count": null,
   "id": "68d82401",
   "metadata": {},
   "outputs": [],
   "source": [
    "# pip install tf2onnx"
   ]
  },
  {
   "cell_type": "code",
   "execution_count": null,
   "id": "219f502c",
   "metadata": {},
   "outputs": [
    {
     "name": "stderr",
     "output_type": "stream",
     "text": [
      "2023-07-17 00:21:50.174078: I tensorflow/core/grappler/devices.cc:75] Number of eligible GPUs (core count >= 8, compute capability >= 0.0): 0 (Note: TensorFlow was not compiled with CUDA or ROCm support)\n",
      "2023-07-17 00:21:50.605076: I tensorflow/core/grappler/devices.cc:75] Number of eligible GPUs (core count >= 8, compute capability >= 0.0): 0 (Note: TensorFlow was not compiled with CUDA or ROCm support)\n"
     ]
    },
    {
     "data": {
      "text/plain": [
       "'./model.onnx'"
      ]
     },
     "execution_count": 29,
     "metadata": {},
     "output_type": "execute_result"
    }
   ],
   "source": [
    "import tf2onnx\n",
    "import tensorflow as tf\n",
    "\n",
    "onnx_model, _ = tf2onnx.convert.from_keras(model)\n",
    "tf.io.write_graph(onnx_model, '.', 'model.onnx', as_text=False)"
   ]
  },
  {
   "cell_type": "code",
   "execution_count": null,
   "id": "66abf64b",
   "metadata": {},
   "outputs": [],
   "source": [
    "# Saved the current model to replicate results\n",
    "#dump(model, open('model.pkl', 'wb'))"
   ]
  },
  {
   "cell_type": "code",
   "execution_count": null,
   "id": "79b75741",
   "metadata": {},
   "outputs": [],
   "source": [
    "from pickle import dump\n",
    "dump(scaler, open('scaler.pkl', 'wb'))"
   ]
  },
  {
   "cell_type": "code",
   "execution_count": null,
   "id": "f1e44fc5",
   "metadata": {},
   "outputs": [],
   "source": [
    "dump(encoder, open('encoder.pkl', 'wb'))"
   ]
  },
  {
   "cell_type": "code",
   "execution_count": null,
   "id": "6f9d8209",
   "metadata": {},
   "outputs": [
    {
     "name": "stdout",
     "output_type": "stream",
     "text": [
      "Input node name: conv1d_input\n",
      "Output node name: dense\n"
     ]
    }
   ],
   "source": [
    "input_name = onnx_model.graph.input[0].name\n",
    "output_name = onnx_model.graph.output[0].name\n",
    "\n",
    "print(\"Input node name:\", input_name)\n",
    "print(\"Output node name:\", output_name)"
   ]
  },
  {
   "cell_type": "code",
   "execution_count": null,
   "id": "7e0b9b50",
   "metadata": {},
   "outputs": [],
   "source": []
  }
 ],
 "metadata": {
  "kernelspec": {
   "display_name": "Python 3 (ipykernel)",
   "language": "python",
   "name": "python3"
  },
  "language_info": {
   "codemirror_mode": {
    "name": "ipython",
    "version": 3
   },
   "file_extension": ".py",
   "mimetype": "text/x-python",
   "name": "python",
   "nbconvert_exporter": "python",
   "pygments_lexer": "ipython3",
   "version": "3.11.1"
  }
 },
 "nbformat": 4,
 "nbformat_minor": 5
}
